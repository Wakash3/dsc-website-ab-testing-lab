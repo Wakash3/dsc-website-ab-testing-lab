{
 "cells": [
  {
   "attachments": {},
   "cell_type": "markdown",
   "metadata": {},
   "source": [
    "# Website A/B Testing - Lab\n",
    "\n",
    "## Introduction\n",
    "\n",
    "In this lab, you'll get another chance to practice your skills at conducting a full A/B test analysis. It will also be a chance to practice your data exploration and processing skills! The scenario you'll be investigating is data collected from the homepage of a music app page for audacity.\n",
    "\n",
    "## Objectives\n",
    "\n",
    "You will be able to:\n",
    "* Analyze the data from a website A/B test to draw relevant conclusions\n",
    "* Explore and analyze web action data"
   ]
  },
  {
   "attachments": {},
   "cell_type": "markdown",
   "metadata": {},
   "source": [
    "## Exploratory Analysis\n",
    "\n",
    "Start by loading in the dataset stored in the file 'homepage_actions.csv'. Then conduct an exploratory analysis to get familiar with the data."
   ]
  },
  {
   "attachments": {},
   "cell_type": "markdown",
   "metadata": {},
   "source": [
    "> Hints:\n",
    "    * Start investigating the id column:\n",
    "        * How many viewers also clicked?\n",
    "        * Are there any anomalies with the data; did anyone click who didn't view?\n",
    "        * Is there any overlap between the control and experiment groups? \n",
    "            * If so, how do you plan to account for this in your experimental design?"
   ]
  },
  {
   "cell_type": "code",
   "execution_count": 9,
   "metadata": {},
   "outputs": [
    {
     "name": "stdout",
     "output_type": "stream",
     "text": [
      "Dataset shape: (8188, 4)\n",
      "\n",
      "First 5 rows:\n",
      "                    timestamp      id       group action\n",
      "0  2016-09-24 17:42:27.839496  804196  experiment   view\n",
      "1  2016-09-24 19:19:03.542569  434745  experiment   view\n",
      "2  2016-09-24 19:36:00.944135  507599  experiment   view\n",
      "3  2016-09-24 19:59:02.646620  671993     control   view\n",
      "4  2016-09-24 20:26:14.466886  536734  experiment   view\n",
      "\n",
      "Value counts for action:\n",
      "view     6328\n",
      "click    1860\n",
      "Name: action, dtype: int64\n",
      "\n",
      "Value counts for group:\n",
      "control       4264\n",
      "experiment    3924\n",
      "Name: group, dtype: int64\n",
      "\n",
      "Total unique viewers: 6328\n",
      "Total unique clickers: 1860\n",
      "Viewers who clicked: 1860\n",
      "Clickers who didn't view: 0\n",
      "\n",
      "Users in both groups: 0\n"
     ]
    }
   ],
   "source": [
    "#Your code here\n",
    "import pandas as pd\n",
    "import numpy as np\n",
    "import matplotlib.pyplot as plt\n",
    "import seaborn as sns\n",
    "from scipy import stats\n",
    "\n",
    "# Load the dataset\n",
    "df = pd.read_csv('homepage_actions.csv')\n",
    "\n",
    "# Initial exploration\n",
    "print(f\"Dataset shape: {df.shape}\")\n",
    "print(\"\\nFirst 5 rows:\")\n",
    "print(df.head())\n",
    "print(\"\\nValue counts for action:\")\n",
    "print(df['action'].value_counts())\n",
    "print(\"\\nValue counts for group:\")\n",
    "print(df['group'].value_counts())\n",
    "\n",
    "# Check for viewers who clicked\n",
    "viewers = set(df[df['action'] == 'view']['id'])\n",
    "clickers = set(df[df['action'] == 'click']['id'])\n",
    "\n",
    "print(f\"\\nTotal unique viewers: {len(viewers)}\")\n",
    "print(f\"Total unique clickers: {len(clickers)}\")\n",
    "print(f\"Viewers who clicked: {len(viewers & clickers)}\")\n",
    "print(f\"Clickers who didn't view: {len(clickers - viewers)}\")\n",
    "\n",
    "# Check for overlap between control and experiment groups\n",
    "control = set(df[df['group'] == 'control']['id'])\n",
    "experiment = set(df[df['group'] == 'experiment']['id'])\n",
    "\n",
    "print(f\"\\nUsers in both groups: {len(control & experiment)}\")"
   ]
  },
  {
   "attachments": {},
   "cell_type": "markdown",
   "metadata": {},
   "source": [
    "## Conduct a Statistical Test\n",
    "\n",
    "Conduct a statistical test to determine whether the experimental homepage was more effective than that of the control group."
   ]
  },
  {
   "cell_type": "code",
   "execution_count": 10,
   "metadata": {},
   "outputs": [
    {
     "name": "stdout",
     "output_type": "stream",
     "text": [
      "\n",
      "Click-through rates by group:\n",
      "            clicks  users       CTR\n",
      "group                              \n",
      "control        932   3332  0.279712\n",
      "experiment     928   2996  0.309746\n",
      "\n",
      "Chi-square test results: chi2=6.7129, p-value=0.009572\n"
     ]
    },
    {
     "data": {
      "image/png": "[encoded data removed]",
      "text/plain": [
       "<Figure size 720x432 with 1 Axes>"
      ]
     },
     "metadata": {
      "needs_background": "light"
     },
     "output_type": "display_data"
    }
   ],
   "source": [
    "# Import required libraries (should be at the top of your notebook)\n",
    "import pandas as pd\n",
    "import matplotlib.pyplot as plt\n",
    "import seaborn as sns\n",
    "from scipy.stats import chi2_contingency\n",
    "\n",
    "# Create binary variable for clicks\n",
    "# First create a dataframe with all unique ids\n",
    "all_ids = pd.DataFrame({'id': list(set(df['id']))})\n",
    "\n",
    "# Merge with click information - count clicks per user\n",
    "clicks = (df[df['action'] == 'click']\n",
    "          .groupby('id')['action']\n",
    "          .count()\n",
    "          .reset_index()\n",
    "          .rename(columns={'action': 'clicked'}))\n",
    "\n",
    "# Get group information (control vs experiment)\n",
    "groups = df[['id', 'group']].drop_duplicates()\n",
    "\n",
    "# Combine all data\n",
    "ab_data = all_ids.merge(groups, on='id', how='left').merge(clicks, on='id', how='left').assign(clicked=lambda x: x['clicked'].fillna(0).astype(int))\n",
    "\n",
    "# Calculate click-through rates by group\n",
    "group_stats = (ab_data.groupby('group')['clicked']\n",
    "               .agg(clicks='sum', users='count', CTR='mean'))\n",
    "\n",
    "print(\"\\nClick-through rates by group:\")\n",
    "print(group_stats)\n",
    "\n",
    "# Create proper 2x2 contingency table\n",
    "contingency_table = [\n",
    "    [group_stats.loc['control', 'clicks'],     # Clicked in control\n",
    "     group_stats.loc['control', 'users'] - group_stats.loc['control', 'clicks']],  # Viewed but didn't click in control\n",
    "    \n",
    "    [group_stats.loc['experiment', 'clicks'],  # Clicked in experiment\n",
    "     group_stats.loc['experiment', 'users'] - group_stats.loc['experiment', 'clicks']]  # Viewed but didn't click in experiment\n",
    "]\n",
    "\n",
    "# Perform chi-square test\n",
    "chi2, p_value, dof, expected = chi2_contingency(contingency_table)\n",
    "print(f\"\\nChi-square test results: chi2={chi2:.4f}, p-value={p_value:.6f}\")\n",
    "\n",
    "# Visualize the results\n",
    "plt.figure(figsize=(10, 6))\n",
    "sns.barplot(x='group', y='clicked', data=ab_data, ci=None)\n",
    "plt.title('Click-through Rate by Group', pad=20)\n",
    "plt.ylabel('CTR (proportion)')\n",
    "plt.xlabel('Group', labelpad=10)\n",
    "plt.tight_layout()\n",
    "plt.show()"
   ]
  },
  {
   "attachments": {},
   "cell_type": "markdown",
   "metadata": {},
   "source": [
    "## Verifying Results\n",
    "\n",
    "One sensible formulation of the data to answer the hypothesis test above would be to create a binary variable representing each individual in the experiment and control group. This binary variable would represent whether or not that individual clicked on the homepage; 1 for they did and 0 if they did not. \n",
    "\n",
    "The variance for the number of successes in a sample of a binomial variable with n observations is given by:\n",
    "\n",
    "## $n\\bullet p (1-p)$\n",
    "\n",
    "Given this, perform 3 steps to verify the results of your statistical test:\n",
    "1. Calculate the expected number of clicks for the experiment group, if it had the same click-through rate as that of the control group. \n",
    "2. Calculate the number of standard deviations that the actual number of clicks was from this estimate. \n",
    "3. Finally, calculate a p-value using the normal distribution based on this z-score."
   ]
  },
  {
   "attachments": {},
   "cell_type": "markdown",
   "metadata": {},
   "source": [
    "### Step 1:\n",
    "Calculate the expected number of clicks for the experiment group, if it had the same click-through rate as that of the control group. "
   ]
  },
  {
   "cell_type": "code",
   "execution_count": 11,
   "metadata": {},
   "outputs": [
    {
     "name": "stdout",
     "output_type": "stream",
     "text": [
      "\n",
      "Expected clicks for experiment group (if same as control CTR): 838.0\n",
      "Actual clicks for experiment group: 928\n"
     ]
    }
   ],
   "source": [
    "#Your code here\n",
    "# Get control group CTR\n",
    "control_ctr = group_stats.loc['control', 'CTR']\n",
    "\n",
    "# Calculate expected clicks for experiment group\n",
    "exp_users = group_stats.loc['experiment', 'users']\n",
    "expected_clicks = exp_users * control_ctr\n",
    "actual_clicks = group_stats.loc['experiment', 'clicks']\n",
    "\n",
    "print(f\"\\nExpected clicks for experiment group (if same as control CTR): {expected_clicks:.1f}\")\n",
    "print(f\"Actual clicks for experiment group: {actual_clicks}\")"
   ]
  },
  {
   "attachments": {},
   "cell_type": "markdown",
   "metadata": {},
   "source": [
    "### Step 2:\n",
    "Calculate the number of standard deviations that the actual number of clicks was from this estimate."
   ]
  },
  {
   "cell_type": "code",
   "execution_count": 12,
   "metadata": {},
   "outputs": [
    {
     "name": "stdout",
     "output_type": "stream",
     "text": [
      "\n",
      "Standard deviation: 24.57\n",
      "Z-score: 3.6625\n"
     ]
    }
   ],
   "source": [
    "#Your code here\n",
    "# Calculate variance using binomial formula\n",
    "p = control_ctr\n",
    "variance = exp_users * p * (1 - p)\n",
    "std_dev = np.sqrt(variance)\n",
    "\n",
    "# Calculate z-score\n",
    "z_score = (actual_clicks - expected_clicks) / std_dev\n",
    "\n",
    "print(f\"\\nStandard deviation: {std_dev:.2f}\")\n",
    "print(f\"Z-score: {z_score:.4f}\")"
   ]
  },
  {
   "attachments": {},
   "cell_type": "markdown",
   "metadata": {},
   "source": [
    "### Step 3: \n",
    "Finally, calculate a p-value using the normal distribution based on this z-score."
   ]
  },
  {
   "cell_type": "code",
   "execution_count": 13,
   "metadata": {},
   "outputs": [
    {
     "name": "stdout",
     "output_type": "stream",
     "text": [
      "\n",
      "P-value from z-score: 0.000125\n",
      "P-value from chi-square test: 0.279712\n",
      "\n",
      "Conclusion: Reject null hypothesis - The experimental homepage is more effective\n"
     ]
    }
   ],
   "source": [
    "#Your code here\n",
    "# Calculate p-value from z-score (one-tailed test)\n",
    "p_value = 1 - stats.norm.cdf(z_score)\n",
    "\n",
    "print(f\"\\nP-value from z-score: {p_value:.6f}\")\n",
    "\n",
    "# Compare with chi-square test result\n",
    "print(f\"P-value from chi-square test: {p:.6f}\")\n",
    "\n",
    "# Interpretation\n",
    "alpha = 0.05\n",
    "if p_value < alpha:\n",
    "    print(\"\\nConclusion: Reject null hypothesis - The experimental homepage is more effective\")\n",
    "else:\n",
    "    print(\"\\nConclusion: Fail to reject null hypothesis - No significant difference between groups\")"
   ]
  },
  {
   "attachments": {},
   "cell_type": "markdown",
   "metadata": {},
   "source": [
    "### Analysis:\n",
    "\n",
    "Does this result roughly match that of the previous statistical test?\n",
    "\n",
    "> Comment: **\n",
    "The results from both statistical approaches (chi-square test and z-test verification) \n",
    "should be roughly comparable. \n",
    "\n",
    "Key findings:\n",
    "1. The exploratory analysis showed no anomalies - all clickers were also viewers, \n",
    "   and there was no overlap between control and experiment groups.\n",
    "\n",
    "2. The chi-square test and z-test verification both showed [significant/not significant] \n",
    "   results (p-value = [value]).\n",
    "\n",
    "3. The experimental group had a CTR of [value] compared to the control group's [value], \n",
    "   representing a [x]% [increase/decrease].\n",
    "\n",
    "4. The z-score verification method confirmed the results of the chi-square test, \n",
    "   with both p-values being [similar/different].\n",
    "\n",
    "This analysis provides strong evidence that [state conclusion based on your actual results].\n",
    "**"
   ]
  },
  {
   "attachments": {},
   "cell_type": "markdown",
   "metadata": {},
   "source": [
    "## Summary\n",
    "\n",
    "In this lab, you continued to get more practice designing and conducting AB tests. This required additional work preprocessing and formulating the initial problem in a suitable manner. Additionally, you also saw how to verify results, strengthening your knowledge of binomial variables, and reviewing initial statistical concepts of the central limit theorem, standard deviation, z-scores, and their accompanying p-values."
   ]
  }
 ],
 "metadata": {
  "kernelspec": {
   "display_name": "learn-env",
   "language": "python",
   "name": "python3"
  },
  "language_info": {
   "codemirror_mode": {
    "name": "ipython",
    "version": 3
   },
   "file_extension": ".py",
   "mimetype": "text/x-python",
   "name": "python",
   "nbconvert_exporter": "python",
   "pygments_lexer": "ipython3",
   "version": "3.8.5"
  }
 },
 "nbformat": 4,
 "nbformat_minor": 2
}
